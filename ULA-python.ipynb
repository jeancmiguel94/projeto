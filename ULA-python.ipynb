{
 "cells": [
  {
   "cell_type": "markdown",
   "metadata": {},
   "source": [
    "### Trabalho de Lógica Digital\n",
    "\n",
    "Alunos: Leonardo Omori, Jean Carlos\n",
    "\n",
    "Implementação de ULA de oito bits"
   ]
  },
  {
   "cell_type": "code",
   "execution_count": 1,
   "metadata": {},
   "outputs": [],
   "source": [
    "##portas lógicas principais\n",
    "\n",
    "\n",
    "def P3_AND(a, b, c):\n",
    "        return int (a and b and c)\n",
    "    \n",
    "def P2_AND(a, b):\n",
    "        return int (a and b)\n",
    "    \n",
    "def P_OR(a, b):\n",
    "        return int (a or b )\n",
    "\n",
    "def P8_OR(a,b,c,d,e,f,g,h):\n",
    "    return int (a or b or c or d or e or f or g or h)\n",
    "    \n",
    "def P_NOT(a):\n",
    "        return int (not a)\n",
    "\n",
    "def P3_NOT(a, b):\n",
    "    if b == 1:\n",
    "        return int (not a)\n",
    "    else:\n",
    "        return 0\n",
    "\n",
    "def P_NOR(a,b):\n",
    "        return int (not(a or b))\n",
    "\n",
    "def P_NAND(a,b):\n",
    "    return int (not(a and b)) \n",
    "\n",
    "def P_XOR(a,b):\n",
    "    return int (bool(a) ^ bool(b))\n",
    "\n",
    "def P_XNOR(a,b):\n",
    "    return int (not(bool(a) ^ bool(b)))\n",
    "    \n",
    "    \n",
    "\n"
   ]
  },
  {
   "cell_type": "markdown",
   "metadata": {},
   "source": [
    "## ULA "
   ]
  },
  {
   "cell_type": "code",
   "execution_count": 2,
   "metadata": {},
   "outputs": [
    {
     "name": "stdout",
     "output_type": "stream",
     "text": [
      "(0, 0, 0, 0, 0, 0, 0, 1)\n"
     ]
    }
   ],
   "source": [
    "#somador\n",
    "cout = 0\n",
    "def SOMA(a, b, cin, ctrl):\n",
    "    '''Circuito SOMADOR. Recebe as entradas A, B e Cin e retorna a SOMA e um CarryOut correspondente'''\n",
    "    \n",
    "    # cout será utilizado se aumentarmos a quantidade de bits do da ULA\n",
    "    cout = P_OR(P3_AND(ctrl, a, b),\n",
    "                 P3_AND(ctrl, P_XOR(a, b), cin))\n",
    "    soma = P2_AND(ctrl, P_XOR(cin, P_XOR(a, b)))\n",
    "    dados = [soma, cout]\n",
    "    return dados\n",
    "\n",
    "\n",
    "###Decoder 3 entradas para 8 saidas\n",
    "def decoder(a,b,c):\n",
    "        \n",
    "    return (P3_AND(P_NOT(a),P_NOT(b),P_NOT(c)),\n",
    "            P3_AND(P_NOT(a), P_NOT(b),c),\n",
    "            P3_AND(P_NOT(a), b ,P_NOT(c)),\n",
    "            P3_AND(P_NOT(a), b, c),\n",
    "            P3_AND(a, P_NOT(b),P_NOT(c)),\n",
    "            P3_AND(a, P_NOT(b),c),\n",
    "            P3_AND(a, b,P_NOT(c)),\n",
    "            P3_AND(a, b, c))\n",
    "print(decoder(1, 1, 1))\n",
    "\n",
    "## ula\n",
    "\n",
    "lista = [None] * 8\n",
    "\n",
    "def ULA_8_bit(a, b,f0, f1, f3):\n",
    "    '''Função principal da ULA de 1 bit para as quatro operações'''\n",
    "    cin = 0\n",
    "    j = 7\n",
    "    for i in  range(0,8):\n",
    "        dc = decoder(f0, f1,f3)\n",
    "        res_and = P2_AND(P2_AND(a[i],b[i]), dc[0])\n",
    "        res_or = P2_AND(P_OR(a[i],b[i]), dc[1])\n",
    "        res_not = P2_AND(P_NOT(a[i]),dc[2])\n",
    "        res_xnor = P2_AND(P_XNOR(a[i],b[i]), dc[3])\n",
    "        res_xor = P2_AND(P_XOR(a[i],b[i]), dc[4])\n",
    "        res_nand = P2_AND(P_NAND(a[i],b[i]), dc[5])\n",
    "        res_nor = P2_AND(P_NOR(a[i],b[i]), dc[6])\n",
    "        dados = SOMA(a[j], b[j], cin, dc[7])\n",
    "        res_soma = dados[0]\n",
    "        cin = dados[1]\n",
    "        j -= 1 \n",
    "        if dc[7] == 1:\n",
    "            lista[j+1] = P8_OR(res_and, res_or, res_not, res_xnor,res_xor, res_nand, res_soma, res_nor)\n",
    "        else:\n",
    "            lista[i] = P8_OR(res_and, res_or, res_not, res_xnor,res_xor, res_nand, res_soma, res_nor)\n",
    "    return lista"
   ]
  },
  {
   "cell_type": "code",
   "execution_count": 5,
   "metadata": {},
   "outputs": [
    {
     "name": "stdout",
     "output_type": "stream",
     "text": [
      "and\n",
      "[0, 0, 0, 0, 0, 0, 0, 0]\n",
      "or\n",
      "[0, 0, 0, 0, 0, 1, 1, 0]\n",
      "not\n",
      "[1, 1, 1, 1, 1, 0, 1, 1]\n",
      "xnor\n",
      "[1, 1, 1, 1, 1, 0, 0, 1]\n",
      "xor\n",
      "[0, 0, 0, 0, 0, 1, 1, 0]\n",
      "nand\n",
      "[1, 1, 1, 1, 1, 1, 1, 1]\n",
      "nor\n",
      "[1, 1, 1, 1, 1, 0, 0, 1]\n",
      "SOMA\n",
      "[0, 0, 0, 0, 0, 1, 1, 0]\n"
     ]
    }
   ],
   "source": [
    "a = [0,0,0,0,0,1,0,0]\n",
    "b = [0,0,0,0,0,0,1,0]\n",
    "\n",
    "print \"and\"\n",
    "print ULA_8_bit(a, b, 0, 0, 0)\n",
    "print \"or\"\n",
    "print ULA_8_bit(a, b, 0, 0, 1)\n",
    "print \"not\"\n",
    "print ULA_8_bit(a, b, 0, 1, 0)\n",
    "print \"xnor\"\n",
    "print ULA_8_bit(a, b, 0, 1, 1)\n",
    "print \"xor\"\n",
    "print ULA_8_bit(a, b, 1, 0, 0)\n",
    "print \"nand\"\n",
    "print ULA_8_bit(a, b, 1, 0, 1)\n",
    "print \"nor\"\n",
    "print ULA_8_bit(a, b, 1, 1, 0)\n",
    "print \"SOMA\"\n",
    "print ULA_8_bit(a, b, 1, 1, 1)\n",
    "    "
   ]
  },
  {
   "cell_type": "code",
   "execution_count": null,
   "metadata": {},
   "outputs": [],
   "source": []
  },
  {
   "cell_type": "code",
   "execution_count": null,
   "metadata": {},
   "outputs": [],
   "source": []
  },
  {
   "cell_type": "code",
   "execution_count": null,
   "metadata": {},
   "outputs": [],
   "source": []
  }
 ],
 "metadata": {
  "kernelspec": {
   "display_name": "Python 2",
   "language": "python",
   "name": "python2"
  },
  "language_info": {
   "codemirror_mode": {
    "name": "ipython",
    "version": 2
   },
   "file_extension": ".py",
   "mimetype": "text/x-python",
   "name": "python",
   "nbconvert_exporter": "python",
   "pygments_lexer": "ipython2",
   "version": "2.7.15rc1"
  }
 },
 "nbformat": 4,
 "nbformat_minor": 2
}
